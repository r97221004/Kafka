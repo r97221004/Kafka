{
 "cells": [
  {
   "cell_type": "markdown",
   "id": "f69be331",
   "metadata": {},
   "source": [
    "參考文章: https://myapollo.com.tw/blog/python-kafka-part-1/"
   ]
  },
  {
   "cell_type": "markdown",
   "id": "181d1ed1",
   "metadata": {},
   "source": [
    "# 本地安裝與啟動（基於Docker）"
   ]
  },
  {
   "cell_type": "markdown",
   "id": "f972b661",
   "metadata": {},
   "source": [
    "### 下載 zookeeper 鏡像與 kafka 鏡像"
   ]
  },
  {
   "cell_type": "raw",
   "id": "ebeee682",
   "metadata": {},
   "source": [
    "docker container run -d --name zookeeper -p 2181:2181 -t wurstmeister/zookeeper  "
   ]
  },
  {
   "cell_type": "markdown",
   "id": "ca2780b6",
   "metadata": {},
   "source": [
    "### 本地啟動 kafka"
   ]
  },
  {
   "cell_type": "raw",
   "id": "be6e1997",
   "metadata": {},
   "source": [
    "注意下面代碼，將 kafka 啟動在 9092 端口"
   ]
  },
  {
   "cell_type": "raw",
   "id": "d2b74ce5",
   "metadata": {},
   "source": [
    "docker container run -d --name kafka --publish 9092:9092 --link zookeeper \\\n",
    "--env KAFKA_ZOOKEEPER_CONNECT=zookeeper:2181 \\\n",
    "--env KAFKA_ADVERTISED_HOST_NAME=localhost \\\n",
    "--env KAFKA_ADVERTISED_PORT=9092 \\\n",
    "wurstmeister/kafka:latest "
   ]
  },
  {
   "cell_type": "markdown",
   "id": "f16c8f12",
   "metadata": {},
   "source": [
    "### 進入 kafka bash"
   ]
  },
  {
   "cell_type": "raw",
   "id": "64afbe7d",
   "metadata": {},
   "source": [
    "所有有關kafka 的指令，如果要在 console 操作，都要在路徑 /opt/kafka/bin 下。"
   ]
  },
  {
   "cell_type": "raw",
   "id": "2bd9d158",
   "metadata": {},
   "source": [
    "docker container exec -it kafka bash\n",
    "cd /opt/kafka/bin"
   ]
  },
  {
   "cell_type": "markdown",
   "id": "c25a2f62",
   "metadata": {},
   "source": [
    "### 查看 kafka 相關的配置"
   ]
  },
  {
   "cell_type": "raw",
   "id": "68324bf0",
   "metadata": {},
   "source": [
    "cat /opt/kafka/config/server.properties"
   ]
  },
  {
   "cell_type": "markdown",
   "id": "0f71fb7b",
   "metadata": {},
   "source": [
    "### 創建 topic"
   ]
  },
  {
   "cell_type": "raw",
   "id": "21414cb0",
   "metadata": {},
   "source": [
    "kafka-topics.sh --create --zookeeper zookeeper:2181 --replication-factor 1 --partitions 2 --topic kafka_demo"
   ]
  },
  {
   "cell_type": "markdown",
   "id": "290a722f",
   "metadata": {},
   "source": [
    "### 查看當前所有 topic"
   ]
  },
  {
   "cell_type": "raw",
   "id": "f31051e0",
   "metadata": {},
   "source": [
    "kafka-topics.sh --zookeeper zookeeper:2181 --list"
   ]
  },
  {
   "cell_type": "markdown",
   "id": "53b1caaa",
   "metadata": {},
   "source": [
    "###  用指令體驗發佈(publish)"
   ]
  },
  {
   "cell_type": "raw",
   "id": "9ff5c05c",
   "metadata": {},
   "source": [
    "--form-beginning 代表會從 topic 最早的 record 開始處理。"
   ]
  },
  {
   "cell_type": "raw",
   "id": "23aed96b",
   "metadata": {},
   "source": [
    "kafka-console-consumer.sh --bootstrap-server localhost:9092 --from-beginning --topic kafka_demo"
   ]
  },
  {
   "cell_type": "markdown",
   "id": "cb159477",
   "metadata": {},
   "source": [
    "### 用指令體驗訂閱(subscribe)"
   ]
  },
  {
   "cell_type": "raw",
   "id": "13827551",
   "metadata": {},
   "source": [
    "開啟另一個 terminal。"
   ]
  },
  {
   "cell_type": "raw",
   "id": "79036f5c",
   "metadata": {},
   "source": [
    "kafka-console-producer.sh --broker-list localhost:9092 --topic kafka_demo"
   ]
  },
  {
   "cell_type": "raw",
   "id": "946a3e1a",
   "metadata": {},
   "source": [
    "輸入 Hello，this is a message from producer。"
   ]
  },
  {
   "cell_type": "raw",
   "id": "cdbc4293",
   "metadata": {},
   "source": [
    "上述指令，會發佈一則訊息 Hello，this is a message from producer 到 kafka_demo 。如果成功的話，就會看到執行 consumer 的 container 也印出相同訊息。此時如果把 consumer 停止執行(Ctrl + c) ，再重新執行一次，就會看到相同的訊息又被列印一次，這就是 --from-beginning 的功用。"
   ]
  }
 ],
 "metadata": {
  "kernelspec": {
   "display_name": "Python 3",
   "language": "python",
   "name": "python3"
  },
  "language_info": {
   "codemirror_mode": {
    "name": "ipython",
    "version": 3
   },
   "file_extension": ".py",
   "mimetype": "text/x-python",
   "name": "python",
   "nbconvert_exporter": "python",
   "pygments_lexer": "ipython3",
   "version": "3.8.10"
  }
 },
 "nbformat": 4,
 "nbformat_minor": 5
}
